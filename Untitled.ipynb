{
 "cells": [
  {
   "cell_type": "code",
   "execution_count": null,
   "metadata": {},
   "outputs": [],
   "source": [
    " #第三章\n",
    " #1.\n",
    "x=eval(input(\"enter height:\"))\n",
    "y=eval(input(\"enter weight:\"))\n",
    "area=x*y\n",
    "perimeter=(x+y)*2\n",
    "print(\"height=\" ,x)\n",
    "print(\"weight=\" ,y)\n",
    "print(\"perimeter=\" ,perimeter)\n",
    "print(\"area=\" ,area)"
   ]
  },
  {
   "cell_type": "code",
   "execution_count": null,
   "metadata": {},
   "outputs": [],
   "source": [
    "#2\n",
    "import math\n",
    "x=eval(input(\"輸入三角形的邊長:\"))\n",
    "print(\"height=\" , 3**(1/2)*(1/2)*x)\n",
    "print(\"area=\" , 3**(1/2)*(1/4)*x*x)"
   ]
  },
  {
   "cell_type": "code",
   "execution_count": null,
   "metadata": {},
   "outputs": [],
   "source": [
    "#3\n",
    "x=eval(input(\"分:\"))\n",
    "y=eval(input(\"秒:\"))\n",
    "z=eval(input(\"公里:\"))\n",
    "print(\"speed =\" ,((z/(x/60+y/3600))/1.6), \"miles/hour\")"
   ]
  },
  {
   "cell_type": "code",
   "execution_count": null,
   "metadata": {},
   "outputs": [],
   "source": [
    "#4\n",
    "x=eval(input(\"enter miles:\"))\n",
    "print(\"Km=\" ,x*1.6)\n"
   ]
  },
  {
   "cell_type": "code",
   "execution_count": null,
   "metadata": {},
   "outputs": [],
   "source": [
    "x=eval(input(\"enter 華氏溫度:\"))\n",
    "print(\"攝氏溫度=\" ,(x-32)*5/9)"
   ]
  },
  {
   "cell_type": "code",
   "execution_count": 1,
   "metadata": {},
   "outputs": [
    {
     "name": "stdout",
     "output_type": "stream",
     "text": [
      "輸入三個整數:2,3,4\n",
      "總和= 9\n",
      "平均數= 3.0\n"
     ]
    }
   ],
   "source": [
    "#6\n",
    "a,b,c=eval(input(\"輸入三個整數:\"))\n",
    "print('總和=' ,a+b+c)\n",
    "print(\"平均數=\" ,(a+b+c)/3)"
   ]
  },
  {
   "cell_type": "code",
   "execution_count": 2,
   "metadata": {},
   "outputs": [
    {
     "name": "stdout",
     "output_type": "stream",
     "text": [
      "輸入姓名:111\n",
      "輸入學號:222\n",
      "輸入地址:333\n",
      "姓名= 111\n",
      "學號= 222\n",
      "地址= 333\n"
     ]
    }
   ],
   "source": [
    "#7\n",
    "a=input(\"輸入姓名:\")\n",
    "b=input('輸入學號:')\n",
    "c=input(\"輸入地址:\")\n",
    "print(\"姓名=\" ,a)\n",
    "print(\"學號=\" ,b)\n",
    "print(\"地址=\" ,c)"
   ]
  },
  {
   "cell_type": "code",
   "execution_count": 5,
   "metadata": {},
   "outputs": [
    {
     "name": "stdout",
     "output_type": "stream",
     "text": [
      "半徑:3\n",
      "面積= 28.274333882308138\n",
      "周長= 18.84955592153876\n"
     ]
    }
   ],
   "source": [
    "#8\n",
    "import math\n",
    "a=eval(input(\"半徑:\"))\n",
    "print(\"面積=\" ,(a**2)*math.pi)\n",
    "print(\"周長=\" , (a*2)*math.pi)"
   ]
  },
  {
   "cell_type": "code",
   "execution_count": 6,
   "metadata": {},
   "outputs": [
    {
     "name": "stdout",
     "output_type": "stream",
     "text": [
      "輸入長,寬:2,3\n",
      "面積= 6\n",
      "周長= 10\n"
     ]
    }
   ],
   "source": [
    "#9\n",
    "a,b=eval(input(\"輸入長,寬:\"))\n",
    "print(\"面積=\" , a*b)\n",
    "print(\"周長=\" ,(a+b)*2)"
   ]
  },
  {
   "cell_type": "code",
   "execution_count": 19,
   "metadata": {},
   "outputs": [
    {
     "name": "stdout",
     "output_type": "stream",
     "text": [
      "enter (x,y)88,99\n",
      "-1970.6818181818182\n"
     ]
    }
   ],
   "source": [
    "x,y=eval(input(\"enter (x,y)\"))\n",
    "print(((3+4*x)/5)-((10)*(y-5)*(x+y+5)/x)+(9)*(4/x+(9+x)/y))"
   ]
  },
  {
   "cell_type": "code",
   "execution_count": null,
   "metadata": {},
   "outputs": [],
   "source": []
  },
  {
   "cell_type": "code",
   "execution_count": null,
   "metadata": {},
   "outputs": [],
   "source": []
  }
 ],
 "metadata": {
  "kernelspec": {
   "display_name": "Python 3",
   "language": "python",
   "name": "python3"
  },
  "language_info": {
   "codemirror_mode": {
    "name": "ipython",
    "version": 3
   },
   "file_extension": ".py",
   "mimetype": "text/x-python",
   "name": "python",
   "nbconvert_exporter": "python",
   "pygments_lexer": "ipython3",
   "version": "3.7.3"
  }
 },
 "nbformat": 4,
 "nbformat_minor": 2
}
